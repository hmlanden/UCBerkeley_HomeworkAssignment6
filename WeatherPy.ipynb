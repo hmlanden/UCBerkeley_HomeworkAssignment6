{
 "cells": [
  {
   "cell_type": "markdown",
   "metadata": {},
   "source": [
    "Your objective is to build a series of scatter plots to showcase the following relationships:\n",
    "\n",
    "- Temperature (F) vs. Latitude\n",
    "- Humidity (%) vs. Latitude\n",
    "- Cloudiness (%) vs. Latitude\n",
    "- Wind Speed (mph) vs. Latitude\n",
    "\n",
    "Your final notebook must:\n",
    "\n",
    "Randomly select at least 500 unique (non-repeat) cities based on latitude and longitude.\n",
    "Perform a weather check on each of the cities using a series of successive API calls.\n",
    "Include a print log of each city as it's being processed with the city number, city name, and requested URL.\n",
    "Save both a CSV of all data retrieved and png images for each scatter plot.\n",
    "As final considerations:\n",
    "\n",
    "You must use the Matplotlib and Seaborn libraries.\n",
    "You must include a written description of three observable trends based on the data.\n",
    "You must use proper labeling of your plots, including aspects like: Plot Titles (with date of analysis) and Axes Labels.\n",
    "You must include an exported markdown version of your Notebook called  README.md in your GitHub repository.\n",
    "See Example Solution for a reference on expected format."
   ]
  },
  {
   "cell_type": "code",
   "execution_count": 107,
   "metadata": {},
   "outputs": [],
   "source": [
    "# -----------------------------------------------------------------------------------\n",
    "# Step 1: Import the modules \n",
    "# -----------------------------------------------------------------------------------\n",
    "import seaborn as sns\n",
    "import json\n",
    "import matplotlib as plt\n",
    "import requests as req\n",
    "import pandas as pd\n",
    "import random as rd\n",
    "from citipy import citipy\n",
    "from localenv import apiKey"
   ]
  },
  {
   "cell_type": "code",
   "execution_count": 114,
   "metadata": {},
   "outputs": [],
   "source": [
    "# -----------------------------------------------------------------------------------\n",
    "# Step 2: Generate a city list without duplicates using citipy\n",
    "# -----------------------------------------------------------------------------------\n",
    "\n",
    "# create counter\n",
    "i = 0\n",
    "\n",
    "# create city list\n",
    "city_list = []\n",
    "\n",
    "while i < 500:\n",
    "    # set random lat and long\n",
    "    latitude = rd.uniform(-90.0,90.0)\n",
    "    longitude = rd.uniform(-180.0,180.0)\n",
    "\n",
    "    # try to pull in a random value\n",
    "    city = [citipy.nearest_city(latitude,longitude).city_name, citipy.nearest_city(latitude,longitude).country_code]\n",
    "    \n",
    "    if city_list.count(city) == 0:\n",
    "        city_list.append(city)\n",
    "        i += 1"
   ]
  },
  {
   "cell_type": "code",
   "execution_count": 115,
   "metadata": {},
   "outputs": [],
   "source": [
    "# -----------------------------------------------------------------------------------\n",
    "# Step 2: Store all our basic API data. I'd use params, but I couldn't get it to work\n",
    "# with the unique structure of some of these parameters\n",
    "# -----------------------------------------------------------------------------------\n",
    "\n",
    "tempUnits = 'Imperial'\n",
    "openWeatherURL = \"http://api.openweathermap.org/data/2.5/weather?\""
   ]
  },
  {
   "cell_type": "markdown",
   "metadata": {},
   "source": [
    "Your objective is to build a series of scatter plots to showcase the following relationships:\n",
    "\n",
    "- Temperature (F) vs. Latitude\n",
    "- Humidity (%) vs. Latitude\n",
    "- Cloudiness (%) vs. Latitude\n",
    "- Wind Speed (mph) vs. Latitude\n"
   ]
  },
  {
   "cell_type": "code",
   "execution_count": 116,
   "metadata": {},
   "outputs": [
    {
     "name": "stdout",
     "output_type": "stream",
     "text": [
      "City #1\n",
      "City URL: http://api.openweathermap.org/data/2.5/weather?id=1307641\n"
     ]
    },
    {
     "ename": "KeyError",
     "evalue": "'name'",
     "output_type": "error",
     "traceback": [
      "\u001b[0;31m---------------------------------------------------------------------------\u001b[0m",
      "\u001b[0;31mKeyError\u001b[0m                                  Traceback (most recent call last)",
      "\u001b[0;32m<ipython-input-116-2f2cbcf93ae4>\u001b[0m in \u001b[0;36m<module>\u001b[0;34m()\u001b[0m\n\u001b[1;32m     18\u001b[0m     \u001b[0mprint\u001b[0m\u001b[0;34m(\u001b[0m\u001b[0;34mf\"City #{i+1}\"\u001b[0m\u001b[0;34m)\u001b[0m\u001b[0;34m\u001b[0m\u001b[0m\n\u001b[1;32m     19\u001b[0m     \u001b[0mprint\u001b[0m\u001b[0;34m(\u001b[0m\u001b[0;34mf\"City URL: http://api.openweathermap.org/data/2.5/weather?id={currentCityID}\"\u001b[0m\u001b[0;34m)\u001b[0m\u001b[0;34m\u001b[0m\u001b[0m\n\u001b[0;32m---> 20\u001b[0;31m     \u001b[0mprint\u001b[0m\u001b[0;34m(\u001b[0m\u001b[0;34mf\"City Name: {response['name']}\"\u001b[0m\u001b[0;34m)\u001b[0m\u001b[0;34m\u001b[0m\u001b[0m\n\u001b[0m\u001b[1;32m     21\u001b[0m     \u001b[0mprint\u001b[0m\u001b[0;34m(\u001b[0m\u001b[0;34mf\"City ID: {response['id']}\"\u001b[0m\u001b[0;34m)\u001b[0m\u001b[0;34m\u001b[0m\u001b[0m\n\u001b[1;32m     22\u001b[0m     \u001b[0mprint\u001b[0m\u001b[0;34m(\u001b[0m\u001b[0;34m\"----------------------------------------------------------------------------\"\u001b[0m\u001b[0;34m)\u001b[0m\u001b[0;34m\u001b[0m\u001b[0m\n",
      "\u001b[0;31mKeyError\u001b[0m: 'name'"
     ]
    }
   ],
   "source": [
    "# -----------------------------------------------------------------------------------\n",
    "# Step 3: Pull data based on city IDs \n",
    "# -----------------------------------------------------------------------------------\n",
    "# create a list that we'll store all our data in\n",
    "weatherData_list = []\n",
    "\n",
    "\n",
    "# loop through all the cities, pull data and add to dictionaries, and print requested log information\n",
    "for i in range(len(city_list)):\n",
    "    # set value for current city and country code so we don't have to keep calling for it\n",
    "    currentCityName = city_list[i][0]\n",
    "    currentCountryCode = city_list[i][1]\n",
    "\n",
    "    # get response\n",
    "    response = req.get(f\"{openWeatherURL}q={currentCityName},{currentCountryCode}&units={tempUnits}&APPID={apiKey}\").json()\n",
    "    \n",
    "    # print out information as it's being processed\n",
    "    print(f\"City #{i+1}\")\n",
    "    print(f\"City URL: http://api.openweathermap.org/data/2.5/weather?id={currentCityID}\")\n",
    "    print(f\"City Name: {response['name']}\")\n",
    "    print(f\"City ID: {response['id']}\")\n",
    "    print(\"----------------------------------------------------------------------------\")    \n",
    "    \n",
    "    # add information from response to list\n",
    "    weatherData_list.append({'ID':response['id'],'Name': response['name'],'Latitude':response['coord']['lat'],\\\n",
    "                           'Humidity (%)':response['main']['humidity'],\\\n",
    "                           'Temperature (Fahrenheit)':response['main']['temp'],\\\n",
    "                           'Wind Speed':response['wind']['speed'],'Cloudiness':response['clouds']['all'] })\n",
    "    "
   ]
  },
  {
   "cell_type": "code",
   "execution_count": 105,
   "metadata": {},
   "outputs": [
    {
     "data": {
      "text/html": [
       "<div>\n",
       "<style scoped>\n",
       "    .dataframe tbody tr th:only-of-type {\n",
       "        vertical-align: middle;\n",
       "    }\n",
       "\n",
       "    .dataframe tbody tr th {\n",
       "        vertical-align: top;\n",
       "    }\n",
       "\n",
       "    .dataframe thead th {\n",
       "        text-align: right;\n",
       "    }\n",
       "</style>\n",
       "<table border=\"1\" class=\"dataframe\">\n",
       "  <thead>\n",
       "    <tr style=\"text-align: right;\">\n",
       "      <th></th>\n",
       "      <th>Name</th>\n",
       "      <th>Latitude</th>\n",
       "      <th>Temperature (Fahrenheit)</th>\n",
       "      <th>Humidity (%)</th>\n",
       "      <th>Wind Speed</th>\n",
       "      <th>Cloudiness</th>\n",
       "    </tr>\n",
       "    <tr>\n",
       "      <th>ID</th>\n",
       "      <th></th>\n",
       "      <th></th>\n",
       "      <th></th>\n",
       "      <th></th>\n",
       "      <th></th>\n",
       "      <th></th>\n",
       "    </tr>\n",
       "  </thead>\n",
       "  <tbody>\n",
       "    <tr>\n",
       "      <th>1493162</th>\n",
       "      <td>Salym</td>\n",
       "      <td>60.06</td>\n",
       "      <td>0.21</td>\n",
       "      <td>64</td>\n",
       "      <td>8.16</td>\n",
       "      <td>56</td>\n",
       "    </tr>\n",
       "    <tr>\n",
       "      <th>1252783</th>\n",
       "      <td>Yarada</td>\n",
       "      <td>17.65</td>\n",
       "      <td>80.13</td>\n",
       "      <td>100</td>\n",
       "      <td>11.07</td>\n",
       "      <td>0</td>\n",
       "    </tr>\n",
       "    <tr>\n",
       "      <th>5848280</th>\n",
       "      <td>Kapaa</td>\n",
       "      <td>22.08</td>\n",
       "      <td>72.43</td>\n",
       "      <td>88</td>\n",
       "      <td>19.46</td>\n",
       "      <td>90</td>\n",
       "    </tr>\n",
       "    <tr>\n",
       "      <th>4032243</th>\n",
       "      <td>Vaini</td>\n",
       "      <td>-21.20</td>\n",
       "      <td>80.60</td>\n",
       "      <td>88</td>\n",
       "      <td>8.39</td>\n",
       "      <td>75</td>\n",
       "    </tr>\n",
       "    <tr>\n",
       "      <th>1797543</th>\n",
       "      <td>Tianpeng</td>\n",
       "      <td>28.88</td>\n",
       "      <td>66.72</td>\n",
       "      <td>97</td>\n",
       "      <td>6.60</td>\n",
       "      <td>92</td>\n",
       "    </tr>\n",
       "  </tbody>\n",
       "</table>\n",
       "</div>"
      ],
      "text/plain": [
       "             Name  Latitude  Temperature (Fahrenheit)  Humidity (%)  \\\n",
       "ID                                                                    \n",
       "1493162     Salym     60.06                      0.21            64   \n",
       "1252783    Yarada     17.65                     80.13           100   \n",
       "5848280     Kapaa     22.08                     72.43            88   \n",
       "4032243     Vaini    -21.20                     80.60            88   \n",
       "1797543  Tianpeng     28.88                     66.72            97   \n",
       "\n",
       "         Wind Speed  Cloudiness  \n",
       "ID                               \n",
       "1493162        8.16          56  \n",
       "1252783       11.07           0  \n",
       "5848280       19.46          90  \n",
       "4032243        8.39          75  \n",
       "1797543        6.60          92  "
      ]
     },
     "execution_count": 105,
     "metadata": {},
     "output_type": "execute_result"
    }
   ],
   "source": [
    "# -----------------------------------------------------------------------------------\n",
    "# Step 4: Create a pretty dataframe that we can reference because visual aids are\n",
    "# the actual best thing ever\n",
    "# -----------------------------------------------------------------------------------\n",
    "\n",
    "# create dataframe\n",
    "cleanedWeather_df = pd.DataFrame(weatherData_list).set_index('ID')\n",
    "\n",
    "# rearrange columns sensibly\n",
    "cleanedWeather_df = cleanedWeather_df[['Name', 'Latitude', 'Temperature (Fahrenheit)',\\\n",
    "                                       'Humidity (%)', 'Wind Speed','Cloudiness']]\n",
    "cleanedWeather_df.head()"
   ]
  },
  {
   "cell_type": "code",
   "execution_count": 101,
   "metadata": {},
   "outputs": [],
   "source": [
    "# -----------------------------------------------------------------------------------\n",
    "# Step 5: Generate charts.\n",
    "#  1) Temperature (F) vs. Latitude\n",
    "#  2) Humidity (%) vs. Latitude\n",
    "#  3) Cloudiness (%) vs. Latitude\n",
    "#  4) Wind Speed (mph) vs. Latitude\n",
    "# -----------------------------------------------------------------------------------\n",
    "\n",
    "# Chart 1: Temperature vs Latitude\n"
   ]
  },
  {
   "cell_type": "code",
   "execution_count": null,
   "metadata": {},
   "outputs": [],
   "source": []
  }
 ],
 "metadata": {
  "kernelspec": {
   "display_name": "Python 3",
   "language": "python",
   "name": "python3"
  },
  "language_info": {
   "codemirror_mode": {
    "name": "ipython",
    "version": 3
   },
   "file_extension": ".py",
   "mimetype": "text/x-python",
   "name": "python",
   "nbconvert_exporter": "python",
   "pygments_lexer": "ipython3",
   "version": "3.6.4"
  }
 },
 "nbformat": 4,
 "nbformat_minor": 2
}
