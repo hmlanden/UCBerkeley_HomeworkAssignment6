{
 "cells": [
  {
   "cell_type": "markdown",
   "metadata": {},
   "source": [
    "Your objective is to build a series of scatter plots to showcase the following relationships:\n",
    "\n",
    "- Temperature (F) vs. Latitude\n",
    "- Humidity (%) vs. Latitude\n",
    "- Cloudiness (%) vs. Latitude\n",
    "- Wind Speed (mph) vs. Latitude\n",
    "\n",
    "Your final notebook must:\n",
    "\n",
    "Randomly select at least 500 unique (non-repeat) cities based on latitude and longitude.\n",
    "Perform a weather check on each of the cities using a series of successive API calls.\n",
    "Include a print log of each city as it's being processed with the city number, city name, and requested URL.\n",
    "Save both a CSV of all data retrieved and png images for each scatter plot.\n",
    "As final considerations:\n",
    "\n",
    "You must use the Matplotlib and Seaborn libraries.\n",
    "You must include a written description of three observable trends based on the data.\n",
    "You must use proper labeling of your plots, including aspects like: Plot Titles (with date of analysis) and Axes Labels.\n",
    "You must include an exported markdown version of your Notebook called  README.md in your GitHub repository.\n",
    "See Example Solution for a reference on expected format.\n",
    "\n",
    "Latitude:\n",
    "- starts at the equator\n",
    "- goes north up to 90 degrees and south down to -90 degrees\n",
    "\n",
    "longitude\n",
    "- starts at the prime meridian\n",
    "- goes west up to -180 degrees and east up to 180 degrees\n",
    "\n",
    "Next, spend the requisite time necessary to study the OpenWeatherMap API. Based on your initial study, you should be able to answer basic questions about the API: Where do you request the API key? Which Weather API in particular will you need? What URL endpoints does it expect? What JSON structure does it respond with? Before you write a line of code, you should be aiming to have a crystal clear understanding of your intended outcome.\n",
    "\n",
    "Though we've never worked with the citipy Python library, push yourself to decipher how it works, and why it might be relevant. Before you try to incorporate the library into your analysis, start by creating simple test cases outside your main script to confirm that you are using it correctly. Too often, when introduced to a new library, students get bogged down by the most minor of errors -- spending hours investigating their entire code -- when, in fact, a simple and focused test would have shown their basic utilization of the library was wrong from the start. Don't let this be you!\n",
    "\n",
    "Part of our expectation in this challenge is that you will use critical thinking skills to understand how and why we're recommending the tools we are. What is Citipy for? Why would you use it in conjunction with the OpenWeatherMap API? How would you do so?\n",
    "\n",
    "In building your script, pay attention to the cities you are using in your query pool. Are you getting coverage of the full gamut of latitudes and longitudes? Or are you simply choosing 500 cities concentrated in one region of the world? Even if you were a geographic genius, simply rattling 500 cities based on your human selection would create a biased dataset. Be thinking of how you should counter this. (Hint: Consider the full range of latitudes).\n",
    "\n",
    "Lastly, remember -- this is a challenging activity. Push yourself! If you complete this task, then you can safely say that you've gained a strong mastery of the core foundations of data analytics and it will only go better from here. Good luck!"
   ]
  },
  {
   "cell_type": "code",
   "execution_count": 1,
   "metadata": {},
   "outputs": [],
   "source": [
    "# -----------------------------------------------------------------------------------\n",
    "# Step 1: Import the modules \n",
    "# -----------------------------------------------------------------------------------\n",
    "# import WeatherParser.py as wp\n",
    "import seaborn as sns\n",
    "import json\n",
    "import matplotlib as plt\n",
    "import requests as req\n",
    "import pandas as pd\n",
    "import random as rd"
   ]
  },
  {
   "cell_type": "code",
   "execution_count": 13,
   "metadata": {},
   "outputs": [],
   "source": [
    "# -----------------------------------------------------------------------------------\n",
    "# Step 2: Generate a basic API call URL that we can modify as needed to get the \n",
    "# information that we want\n",
    "# -----------------------------------------------------------------------------------\n",
    "\n",
    "# create dictionary for all parameters\n",
    "params = {'APPID':'4d3b9f4fffdac827a1f57f1a3776932b',\n",
    "         'mode':'JSON'}\n",
    "\n",
    "# store URL for API\n",
    "openWeatherURL = \"http://api.openweathermap.org/data/2.5/weather?\""
   ]
  },
  {
   "cell_type": "code",
   "execution_count": null,
   "metadata": {},
   "outputs": [],
   "source": [
    "# -----------------------------------------------------------------------------------\n",
    "# Step 3: Create a for loop to iterate through API calls and pull data\n",
    "# -----------------------------------------------------------------------------------\n",
    "\n",
    "# create a dataframe to add values to\n",
    "weatherData = pd.DataFrame({'city_name':[],'latitude':[], 'longitude':[]})\n",
    "\n",
    "while i < 5:\n",
    "\n",
    "# for testing, will leave this at 5\n",
    "    # set random latitude and longitude\n",
    "    params['lat'] = rd.randint(-90, 90)\n",
    "    params['lon'] = rd.randint(-180, 180)\n",
    "    \n",
    "    # try to pull in a random value\n",
    "    try:\n",
    "        response = req.get(openWeatherURL, params=params).json()\n",
    "    except ValueError:\n",
    "        print(ValueError)\n",
    "    \n",
    "    if response['name'] != '':\n",
    "        if response['name'] in weatherData == False:\n",
    "            print(\"yay\")\n",
    "            print(response)\n",
    "            i+=1"
   ]
  },
  {
   "cell_type": "code",
   "execution_count": null,
   "metadata": {},
   "outputs": [],
   "source": []
  },
  {
   "cell_type": "code",
   "execution_count": null,
   "metadata": {},
   "outputs": [],
   "source": []
  }
 ],
 "metadata": {
  "kernelspec": {
   "display_name": "Python 3",
   "language": "python",
   "name": "python3"
  }
 },
 "nbformat": 4,
 "nbformat_minor": 2
}
