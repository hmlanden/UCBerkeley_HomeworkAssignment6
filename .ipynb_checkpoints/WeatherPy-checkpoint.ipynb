{
 "cells": [
  {
   "cell_type": "markdown",
   "metadata": {},
   "source": [
    "Your objective is to build a series of scatter plots to showcase the following relationships:\n",
    "\n",
    "- Temperature (F) vs. Latitude\n",
    "- Humidity (%) vs. Latitude\n",
    "- Cloudiness (%) vs. Latitude\n",
    "- Wind Speed (mph) vs. Latitude\n",
    "\n",
    "Your final notebook must:\n",
    "\n",
    "Randomly select at least 500 unique (non-repeat) cities based on latitude and longitude.\n",
    "Perform a weather check on each of the cities using a series of successive API calls.\n",
    "Include a print log of each city as it's being processed with the city number, city name, and requested URL.\n",
    "Save both a CSV of all data retrieved and png images for each scatter plot.\n",
    "As final considerations:\n",
    "\n",
    "You must use the Matplotlib and Seaborn libraries.\n",
    "You must include a written description of three observable trends based on the data.\n",
    "You must use proper labeling of your plots, including aspects like: Plot Titles (with date of analysis) and Axes Labels.\n",
    "You must include an exported markdown version of your Notebook called  README.md in your GitHub repository.\n",
    "See Example Solution for a reference on expected format.\n",
    "\n",
    "Latitude:\n",
    "- starts at the equator\n",
    "- goes north up to 90 degrees and south down to -90 degrees\n",
    "\n",
    "longitude\n",
    "- starts at the prime meridian\n",
    "- goes west up to -180 degrees and east up to 180 degrees\n",
    "\n",
    "Next, spend the requisite time necessary to study the OpenWeatherMap API. Based on your initial study, you should be able to answer basic questions about the API: Where do you request the API key? Which Weather API in particular will you need? What URL endpoints does it expect? What JSON structure does it respond with? Before you write a line of code, you should be aiming to have a crystal clear understanding of your intended outcome.\n",
    "\n",
    "Though we've never worked with the citipy Python library, push yourself to decipher how it works, and why it might be relevant. Before you try to incorporate the library into your analysis, start by creating simple test cases outside your main script to confirm that you are using it correctly. Too often, when introduced to a new library, students get bogged down by the most minor of errors -- spending hours investigating their entire code -- when, in fact, a simple and focused test would have shown their basic utilization of the library was wrong from the start. Don't let this be you!\n",
    "\n",
    "Part of our expectation in this challenge is that you will use critical thinking skills to understand how and why we're recommending the tools we are. What is Citipy for? Why would you use it in conjunction with the OpenWeatherMap API? How would you do so?\n",
    "\n",
    "In building your script, pay attention to the cities you are using in your query pool. Are you getting coverage of the full gamut of latitudes and longitudes? Or are you simply choosing 500 cities concentrated in one region of the world? Even if you were a geographic genius, simply rattling 500 cities based on your human selection would create a biased dataset. Be thinking of how you should counter this. (Hint: Consider the full range of latitudes).\n",
    "\n",
    "Lastly, remember -- this is a challenging activity. Push yourself! If you complete this task, then you can safely say that you've gained a strong mastery of the core foundations of data analytics and it will only go better from here. Good luck!"
   ]
  },
  {
   "cell_type": "code",
   "execution_count": 32,
   "metadata": {},
   "outputs": [
    {
     "ename": "ModuleNotFoundError",
     "evalue": "No module named 'weatherpyFunctions'",
     "output_type": "error",
     "traceback": [
      "\u001b[0;31m---------------------------------------------------------------------------\u001b[0m",
      "\u001b[0;31mModuleNotFoundError\u001b[0m                       Traceback (most recent call last)",
      "\u001b[0;32m<ipython-input-32-d7c52ea5d875>\u001b[0m in \u001b[0;36m<module>\u001b[0;34m()\u001b[0m\n\u001b[1;32m      9\u001b[0m \u001b[0;32mimport\u001b[0m \u001b[0mrandom\u001b[0m \u001b[0;32mas\u001b[0m \u001b[0mrd\u001b[0m\u001b[0;34m\u001b[0m\u001b[0m\n\u001b[1;32m     10\u001b[0m \u001b[0;34m\u001b[0m\u001b[0m\n\u001b[0;32m---> 11\u001b[0;31m \u001b[0;32mimport\u001b[0m \u001b[0mweatherpyFunctions\u001b[0m \u001b[0;32mas\u001b[0m \u001b[0mwp\u001b[0m\u001b[0;34m\u001b[0m\u001b[0m\n\u001b[0m",
      "\u001b[0;31mModuleNotFoundError\u001b[0m: No module named 'weatherpyFunctions'"
     ]
    }
   ],
   "source": [
    "# -----------------------------------------------------------------------------------\n",
    "# Step 1: Import the modules \n",
    "# -----------------------------------------------------------------------------------\n",
    "import seaborn as sns\n",
    "import json\n",
    "import matplotlib as plt\n",
    "import requests as req\n",
    "import pandas as pd\n",
    "import random as rd\n",
    "\n",
    "import weatherpyFunctions as wp"
   ]
  },
  {
   "cell_type": "code",
   "execution_count": 21,
   "metadata": {},
   "outputs": [
    {
     "name": "stdout",
     "output_type": "stream",
     "text": [
      "http://api.openweathermap.org/data/2.5/weather?\n"
     ]
    }
   ],
   "source": [
    "# -----------------------------------------------------------------------------------\n",
    "# Step 2: Generate a basic API call URL that we can modify as needed to get the \n",
    "# information that we want\n",
    "# -----------------------------------------------------------------------------------\n",
    "\n",
    "# create dictionary for all parameters\n",
    "params = {'APPID':'4d3b9f4fffdac827a1f57f1a3776932b',\n",
    "         'mode':'JSON'}\n",
    "\n",
    "# store URL for API\n",
    "openWeatherURL = \"http://api.openweathermap.org/data/2.5/weather?\"\n",
    "print(openWeatherURL)"
   ]
  },
  {
   "cell_type": "code",
   "execution_count": 26,
   "metadata": {},
   "outputs": [
    {
     "name": "stdout",
     "output_type": "stream",
     "text": [
      "How many cities do you want to look at weather data for when building this analysis?                  (Note: we recommend picking at least 500!)500\n"
     ]
    },
    {
     "ename": "NameError",
     "evalue": "name 'wp' is not defined",
     "output_type": "error",
     "traceback": [
      "\u001b[0;31m---------------------------------------------------------------------------\u001b[0m",
      "\u001b[0;31mNameError\u001b[0m                                 Traceback (most recent call last)",
      "\u001b[0;32m<ipython-input-26-9b1d31d5197d>\u001b[0m in \u001b[0;36m<module>\u001b[0;34m()\u001b[0m\n\u001b[1;32m      8\u001b[0m \u001b[0;34m\u001b[0m\u001b[0m\n\u001b[1;32m      9\u001b[0m \u001b[0;31m# return a dataframe of x num unique cities\u001b[0m\u001b[0;34m\u001b[0m\u001b[0;34m\u001b[0m\u001b[0m\n\u001b[0;32m---> 10\u001b[0;31m \u001b[0mcity_df\u001b[0m \u001b[0;34m=\u001b[0m \u001b[0mwp\u001b[0m\u001b[0;34m.\u001b[0m\u001b[0mgetCityList\u001b[0m\u001b[0;34m(\u001b[0m\u001b[0mcityCount\u001b[0m\u001b[0;34m)\u001b[0m\u001b[0;34m\u001b[0m\u001b[0m\n\u001b[0m",
      "\u001b[0;31mNameError\u001b[0m: name 'wp' is not defined"
     ]
    }
   ],
   "source": [
    "# -----------------------------------------------------------------------------------\n",
    "# Step 2: Generate a list of unique cities randomly by iterating through\n",
    "# the Cities JSON as pulled from OpenWeatherMap on 2/27/2018.\n",
    "# -----------------------------------------------------------------------------------\n",
    "\n",
    "# get the number of cities we want to analyze\n",
    "cityCount = input(\"How many cities do you want to look at weather data for when building this analysis?\\\n",
    "                  (Note: we recommend picking at least 500!)\")\n",
    "\n",
    "# return a dataframe of x num unique cities\n",
    "city_df = wp.getCityList(cityCount)"
   ]
  },
  {
   "cell_type": "code",
   "execution_count": 24,
   "metadata": {},
   "outputs": [
    {
     "name": "stdout",
     "output_type": "stream",
     "text": [
      "{'coord': {'lon': -83, 'lat': 22}, 'weather': [{'id': 800, 'main': 'Clear', 'description': 'clear sky', 'icon': '01n'}], 'base': 'stations', 'main': {'temp': 297.714, 'pressure': 1030.32, 'humidity': 100, 'temp_min': 297.714, 'temp_max': 297.714, 'sea_level': 1030.44, 'grnd_level': 1030.32}, 'wind': {'speed': 1.41, 'deg': 51.5014}, 'clouds': {'all': 0}, 'dt': 1519880339, 'sys': {'message': 0.0035, 'country': 'CU', 'sunrise': 1519905163, 'sunset': 1519947363}, 'id': 3545867, 'name': 'Nueva Gerona', 'cod': 200}\n"
     ]
    }
   ],
   "source": [
    "# -----------------------------------------------------------------------------------\n",
    "# Step 3: Create a for loop to iterate through API calls and pull data\n",
    "# -----------------------------------------------------------------------------------\n",
    "\n",
    "\n",
    "\n",
    "# create a dataframe to add values to\n",
    "weatherData = pd.DataFrame({'city_name':[],'latitude':[], 'longitude':[]})\n",
    "\n",
    "\n",
    "# try to pull in a random value\n",
    "response = req.get(openWeatherURL, params=params).json()\n",
    "        \n",
    "if response['name'] != '':\n",
    "        print(response)\n",
    "else:\n",
    "    print(\"done\")"
   ]
  },
  {
   "cell_type": "code",
   "execution_count": null,
   "metadata": {},
   "outputs": [],
   "source": []
  },
  {
   "cell_type": "code",
   "execution_count": null,
   "metadata": {},
   "outputs": [],
   "source": []
  }
 ],
 "metadata": {
  "kernelspec": {
   "display_name": "Python 3",
   "language": "python",
   "name": "python3"
  },
  "language_info": {
   "codemirror_mode": {
    "name": "ipython",
    "version": 3
   },
   "file_extension": ".py",
   "mimetype": "text/x-python",
   "name": "python",
   "nbconvert_exporter": "python",
   "pygments_lexer": "ipython3",
   "version": "3.6.4"
  }
 },
 "nbformat": 4,
 "nbformat_minor": 2
}
